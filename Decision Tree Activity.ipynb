{
 "cells": [
  {
   "cell_type": "code",
   "execution_count": 1,
   "id": "9c9066f3",
   "metadata": {},
   "outputs": [
    {
     "name": "stdout",
     "output_type": "stream",
     "text": [
      "Running on local URL:  http://127.0.0.1:7861\n",
      "\n",
      "To create a public link, set `share=True` in `launch()`.\n"
     ]
    },
    {
     "data": {
      "text/html": [
       "<div><iframe src=\"http://127.0.0.1:7861/\" width=\"100%\" height=\"500\" allow=\"autoplay; camera; microphone; clipboard-read; clipboard-write;\" frameborder=\"0\" allowfullscreen></iframe></div>"
      ],
      "text/plain": [
       "<IPython.core.display.HTML object>"
      ]
     },
     "metadata": {},
     "output_type": "display_data"
    },
    {
     "data": {
      "text/plain": []
     },
     "execution_count": 1,
     "metadata": {},
     "output_type": "execute_result"
    }
   ],
   "source": [
    "import gradio as gr\n",
    "from sklearn import tree\n",
    "\n",
    "# Training data\n",
    "features = [[1000, 0, 3], [5000, 0, 1], [20000, 1, 7], [10000, 1, 9], [350, 500, 5]]\n",
    "labels = ['Cybercrime', 'Cybercrime', 'Through Cybercrime', 'Through Cybercrime', 'Cybercrime']\n",
    "\n",
    "# Train the model\n",
    "myClassifier = tree.DecisionTreeClassifier()\n",
    "myModel = myClassifier.fit(features, labels)\n",
    "\n",
    "# Prediction function\n",
    "def predict_cybercrime(f1, f2, f3):\n",
    "    try:\n",
    "        f1 = float(f1)\n",
    "        f2 = float(f2)\n",
    "        f3 = float(f3)\n",
    "        prediction = myModel.predict([[f1, f2, f3]])\n",
    "        return prediction[0]\n",
    "    except ValueError:\n",
    "        return \"Please enter valid numbers.\"\n",
    "\n",
    "# Create Gradio interface\n",
    "inputs = [\n",
    "    gr.Number(label=\"Enter the Money lost\"),\n",
    "    gr.Number(label=\"Enter if the human was affected as 1\"),\n",
    "    gr.Number(label=\"Enter the techniques used from 1 to 10\")\n",
    "]\n",
    "\n",
    "output = gr.Textbox(label=\"Prediction\")\n",
    "\n",
    "interface = gr.Interface(fn=predict_cybercrime, inputs=inputs, outputs=output, title=\"Cybercrime Prediction\")\n",
    "\n",
    "interface.launch()"
   ]
  },
  {
   "cell_type": "code",
   "execution_count": null,
   "id": "9df7bd3b",
   "metadata": {},
   "outputs": [],
   "source": []
  }
 ],
 "metadata": {
  "kernelspec": {
   "display_name": "Python 3 (ipykernel)",
   "language": "python",
   "name": "python3"
  },
  "language_info": {
   "codemirror_mode": {
    "name": "ipython",
    "version": 3
   },
   "file_extension": ".py",
   "mimetype": "text/x-python",
   "name": "python",
   "nbconvert_exporter": "python",
   "pygments_lexer": "ipython3",
   "version": "3.10.9"
  }
 },
 "nbformat": 4,
 "nbformat_minor": 5
}
